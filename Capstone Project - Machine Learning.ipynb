{
 "cells": [
  {
   "cell_type": "markdown",
   "metadata": {},
   "source": [
    "<center><h1>MULTIPLE CHOICE QUESTIONS AND A CAPSTONE PROJECT based on MACHINE LEARNING LECTURE SERIES</h1></center>\n",
    "\n",
    "<hr style = \"border-top: 6px solid maroon\">"
   ]
  },
  {
   "cell_type": "markdown",
   "metadata": {},
   "source": [
    "<div style = \"background-color: lightblue;border: 5px double maroon\">\n",
    "<h1 >Introduction</h1>\n",
    "<hr style = \"border-top: 2px solid maroon\">\n",
    "    Estimated time needed: <b>120 minutes.</b>\n",
    "\n",
    "Using this Python notebook you will:\n",
    "\n",
    "1.  Understand the diabetes DataSet (Click the link for dataset - [Diabetes Dataset](https://raw.githubusercontent.com/patelmanishv/Machine-Learning-using-Python/main/diabetes.csv))\n",
    "2.  Complete the MCQs related to Machine Learning.\n",
    "2.  Load the dataset.\n",
    "3.  Execute the tasks given in the project questions\n",
    "4.  Using appropriate libraries, apply suitable machine learning techniques and conclude with your insights.\n",
    "    \n",
    "    <i>Submit your project as the <code>ipynb notebook file</code>  to manish.patel@ljku.edu.in <b>on or before 20th June 2023.</b></i>\n",
    "    \n",
    "</div>"
   ]
  },
  {
   "cell_type": "markdown",
   "metadata": {},
   "source": [
    "## MULTIPLE CHOICE QUESTIONS"
   ]
  },
  {
   "cell_type": "markdown",
   "metadata": {},
   "source": [
    "1. Which of the following is a supervised learning algorithm?\n",
    "   - a) K-means clustering\n",
    "   - b) Decision tree\n",
    "   - c) Principal Component Analysis (PCA)\n",
    "   - d) Apriori algorithm"
   ]
  },
  {
   "cell_type": "code",
   "execution_count": null,
   "metadata": {},
   "outputs": [],
   "source": []
  },
  {
   "cell_type": "markdown",
   "metadata": {},
   "source": [
    "2. Linear regression is used for:\n",
    "   - a) Classification problems\n",
    "   - b) Clustering problems\n",
    "   - c) Regression problems\n",
    "   - d) Dimensionality reduction"
   ]
  },
  {
   "cell_type": "code",
   "execution_count": null,
   "metadata": {},
   "outputs": [],
   "source": []
  },
  {
   "cell_type": "markdown",
   "metadata": {},
   "source": [
    "3. Support Vector Machines (SVM) is a:\n",
    "   - a) Supervised learning algorithm\n",
    "   - b) Unsupervised learning algorithm\n",
    "   - c) Reinforcement learning algorithm\n",
    "   - d) None of the above"
   ]
  },
  {
   "cell_type": "code",
   "execution_count": null,
   "metadata": {},
   "outputs": [],
   "source": []
  },
  {
   "cell_type": "markdown",
   "metadata": {},
   "source": [
    "4. In decision trees, entropy is used to measure:\n",
    "   - a) Impurity of a node\n",
    "   - b) Feature importance\n",
    "   - c) Similarity between data points\n",
    "   - d) Probability of a class"
   ]
  },
  {
   "cell_type": "code",
   "execution_count": null,
   "metadata": {},
   "outputs": [],
   "source": []
  },
  {
   "cell_type": "markdown",
   "metadata": {},
   "source": [
    "5. Which algorithm is used for unsupervised learning?\n",
    "   - a) Naive Bayes\n",
    "   - b) K-means clustering\n",
    "   - c) Random Forest\n",
    "   - d) Gradient Boosting"
   ]
  },
  {
   "cell_type": "code",
   "execution_count": null,
   "metadata": {},
   "outputs": [],
   "source": []
  },
  {
   "cell_type": "markdown",
   "metadata": {},
   "source": [
    "6. The elbow method is used to determine the optimal number of clusters in:\n",
    "   - a) K-means clustering\n",
    "   - b) Decision trees\n",
    "   - c) Linear regression\n",
    "   - d) Support Vector Machines"
   ]
  },
  {
   "cell_type": "code",
   "execution_count": null,
   "metadata": {},
   "outputs": [],
   "source": []
  },
  {
   "cell_type": "markdown",
   "metadata": {},
   "source": [
    "7. Which of the following is a dimensionality reduction technique?\n",
    "   - a) K-nearest neighbors\n",
    "   - b) Random Forest\n",
    "   - c) Principal Component Analysis (PCA)\n",
    "   - d) AdaBoost"
   ]
  },
  {
   "cell_type": "code",
   "execution_count": null,
   "metadata": {},
   "outputs": [],
   "source": []
  },
  {
   "cell_type": "markdown",
   "metadata": {},
   "source": [
    "8. In machine learning, feature engineering involves:\n",
    "   - a) Selecting the best features for a model\n",
    "   - b) Creating new features from existing data\n",
    "   - c) Removing irrelevant features\n",
    "   - d) All of the above"
   ]
  },
  {
   "cell_type": "code",
   "execution_count": null,
   "metadata": {},
   "outputs": [],
   "source": []
  },
  {
   "cell_type": "markdown",
   "metadata": {},
   "source": [
    "9. Scikit-learn is a popular library for machine learning in:\n",
    "   - a) Python\n",
    "   - b) R\n",
    "   - c) Java\n",
    "   - d) MATLAB"
   ]
  },
  {
   "cell_type": "code",
   "execution_count": null,
   "metadata": {},
   "outputs": [],
   "source": []
  },
  {
   "cell_type": "markdown",
   "metadata": {},
   "source": [
    "10. Which algorithm can be used for both classification and regression problems?\n",
    "    - a) Logistic regression\n",
    "    - b) Decision tree\n",
    "    - c) Naive Bayes\n",
    "    - d) K-means clustering"
   ]
  },
  {
   "cell_type": "code",
   "execution_count": null,
   "metadata": {},
   "outputs": [],
   "source": []
  },
  {
   "cell_type": "markdown",
   "metadata": {},
   "source": [
    "11. The goal of clustering algorithms is to:\n",
    "    - a) Predict a continuous value\n",
    "    - b) Classify data into categories\n",
    "    - c) Group similar data points together\n",
    "    - d) Reduce the dimensionality of the data"
   ]
  },
  {
   "cell_type": "code",
   "execution_count": null,
   "metadata": {},
   "outputs": [],
   "source": []
  },
  {
   "cell_type": "markdown",
   "metadata": {},
   "source": [
    "12. Which of the following is used to evaluate the performance of a classification model?\n",
    "    - a) Mean Squared Error (MSE)\n",
    "    - b) R-squared (R2)\n",
    "    - c) Accuracy\n",
    "    - d) Root Mean Squared Error (RMSE)"
   ]
  },
  {
   "cell_type": "code",
   "execution_count": null,
   "metadata": {},
   "outputs": [],
   "source": []
  },
  {
   "cell_type": "markdown",
   "metadata": {},
   "source": [
    "13. In machine learning, overfitting occurs when a model:\n",
    "    - a) Performs well on the training data but poorly on new data\n",
    "    - b) Performs poorly on the training data but well on new data\n",
    "    - c) Generalizes well to new data\n",
    "    - d) None of the above"
   ]
  },
  {
   "cell_type": "code",
   "execution_count": null,
   "metadata": {},
   "outputs": [],
   "source": []
  },
  {
   "cell_type": "markdown",
   "metadata": {},
   "source": [
    "14. What does SVM stand for?\n",
    "    - a) Support Vector Machine\n",
    "    - b) Supervised Vector Machine\n",
    "    - c) Simple Vector Model\n",
    "    - d) Semi-Supervised Virtual Machine"
   ]
  },
  {
   "cell_type": "code",
   "execution_count": null,
   "metadata": {},
   "outputs": [],
   "source": []
  },
  {
   "cell_type": "markdown",
   "metadata": {},
   "source": [
    "15. Which of the following is an ensemble learning algorithm?\n",
    "    - a) K-means clustering\n",
    "    - b) Naive Bayes\n",
    "    - c) Random Forest\n",
    "    - d) Gradient Descent"
   ]
  },
  {
   "cell_type": "code",
   "execution_count": null,
   "metadata": {},
   "outputs": [],
   "source": []
  },
  {
   "cell_type": "markdown",
   "metadata": {},
   "source": [
    "16. What is the purpose of cross-validation?\n",
    "    - a) To assess the performance of a model on unseen data\n",
    "    - b) To split the data into training and testing sets\n",
    "    - c) To tune the hyperparameters of a model\n",
    "    - d) All of the above"
   ]
  },
  {
   "cell_type": "code",
   "execution_count": null,
   "metadata": {},
   "outputs": [],
   "source": []
  },
  {
   "cell_type": "markdown",
   "metadata": {},
   "source": [
    "17. Which algorithm is prone to the curse of dimensionality?\n",
    "    - a) K-means clustering\n",
    "    - b) Decision trees\n",
    "    - c) Principal Component Analysis (PCA)\n",
    "    - d) Naive Bayes"
   ]
  },
  {
   "cell_type": "code",
   "execution_count": null,
   "metadata": {},
   "outputs": [],
   "source": []
  },
  {
   "cell_type": "markdown",
   "metadata": {},
   "source": [
    "18. Which technique is used to handle imbalanced datasets?\n",
    "    - a) Upsampling\n",
    "    - b) Downsampling\n",
    "    - c) SMOTE (Synthetic Minority Over-sampling Technique)\n",
    "    - d) All of the above"
   ]
  },
  {
   "cell_type": "code",
   "execution_count": null,
   "metadata": {},
   "outputs": [],
   "source": []
  },
  {
   "cell_type": "markdown",
   "metadata": {},
   "source": [
    "19. In feature scaling, what is the purpose of normalization?\n",
    "    - a) To make the data range between 0 and 1\n",
    "    - b) To standardize the data with zero mean and unit variance\n",
    "    - c) To map the data to a specific range\n",
    "    - d) To handle missing values in the data"
   ]
  },
  {
   "cell_type": "code",
   "execution_count": null,
   "metadata": {},
   "outputs": [],
   "source": []
  },
  {
   "cell_type": "markdown",
   "metadata": {},
   "source": [
    "20. Which of the following is a distance metric used in K-means clustering?\n",
    "    - a) Manhattan distance\n",
    "    - b) Euclidean distance\n",
    "    - c) Cosine similarity\n",
    "    - d) All of the above"
   ]
  },
  {
   "cell_type": "code",
   "execution_count": null,
   "metadata": {},
   "outputs": [],
   "source": []
  },
  {
   "cell_type": "markdown",
   "metadata": {},
   "source": [
    "21. Bagging and boosting are techniques used in:\n",
    "    - a) Dimensionality reduction\n",
    "    - b) Feature selection\n",
    "    - c) Ensemble learning\n",
    "    - d) Regularization"
   ]
  },
  {
   "cell_type": "code",
   "execution_count": null,
   "metadata": {},
   "outputs": [],
   "source": []
  },
  {
   "cell_type": "markdown",
   "metadata": {},
   "source": [
    "22. Which technique can be used to handle missing values in a dataset?\n",
    "    - a) Deleting the rows with missing values\n",
    "    - b) Filling missing values with the mean or median\n",
    "    - c) Using imputation techniques\n",
    "    - d) All of the above"
   ]
  },
  {
   "cell_type": "code",
   "execution_count": null,
   "metadata": {},
   "outputs": [],
   "source": []
  },
  {
   "cell_type": "markdown",
   "metadata": {},
   "source": [
    "23. Which algorithm can handle both categorical and numerical data?\n",
    "    - a) Naive Bayes\n",
    "    - b) K-means clustering\n",
    "    - c) Random Forest\n",
    "    - d) Linear regression"
   ]
  },
  {
   "cell_type": "code",
   "execution_count": null,
   "metadata": {},
   "outputs": [],
   "source": []
  },
  {
   "cell_type": "markdown",
   "metadata": {},
   "source": [
    "24. Which algorithm is sensitive to feature scaling?\n",
    "    - a) Decision trees\n",
    "    - b) Naive Bayes\n",
    "    - c) K-means clustering\n",
    "    - d) Linear regression"
   ]
  },
  {
   "cell_type": "code",
   "execution_count": null,
   "metadata": {},
   "outputs": [],
   "source": []
  },
  {
   "cell_type": "markdown",
   "metadata": {},
   "source": [
    "25. In machine learning, precision and recall are metrics used for:\n",
    "    - a) Classification problems\n",
    "    - b) Regression problems\n",
    "    - c) Clustering problems\n",
    "    - d) Dimensionality reduction"
   ]
  },
  {
   "cell_type": "code",
   "execution_count": null,
   "metadata": {},
   "outputs": [],
   "source": []
  },
  {
   "cell_type": "markdown",
   "metadata": {},
   "source": [
    "For answers double click __here__\n",
    "\n",
    "<!-- ## ANSWER KEY \n",
    "1. b) Decision tree\n",
    "2. c) Regression problems\n",
    "3. a) Supervised learning algorithm\n",
    "4. a) Impurity of a node\n",
    "5. b) K-means clustering\n",
    "6. a) K-means clustering\n",
    "7. c) Principal Component Analysis (PCA)\n",
    "8. d) All of the above\n",
    "9. a) Python\n",
    "10. b) Decision tree\n",
    "11. c) Group similar data points together\n",
    "12. c) Accuracy\n",
    "13. a) Performs well on the training data but poorly on new data\n",
    "14. a) Support Vector Machine\n",
    "15. c) Random Forest\n",
    "16. a) To assess the performance of a model on unseen data\n",
    "17. d) Naive Bayes\n",
    "18. d) All of the above\n",
    "19. a) To make the data range between 0 and 1\n",
    "20. b) Euclidean distance\n",
    "21. c) Ensemble learning\n",
    "22. d) All of the above\n",
    "23. c) Random Forest\n",
    "24. c) K-means clustering\n",
    "25. a) Classification problems -->"
   ]
  },
  {
   "cell_type": "markdown",
   "metadata": {},
   "source": [
    "## Overview of the Project \n",
    "<hr style = \"border-top: 2px solid maroon\">\n",
    "\n",
    "Develop a machine learning model to predict the onset of diabetes in patients based on certain diagnostic measurements. The objective is to create a reliable prediction system that can identify individuals at high risk of diabetes, allowing for early intervention and personalized healthcare.\n",
    "\n",
    "### [Dataset](https://raw.githubusercontent.com/patelmanishv/Machine-Learning-using-Python/main/diabetes.csv):\n",
    "The project will utilize a diabetes dataset that includes various diagnostic measurements of patients, such as glucose level, blood pressure, body mass index (BMI), insulin level, and age. Each patient in the dataset is labeled as either having diabetes (Outcome = 1) or not having diabetes (Outcome = 0).\n",
    "\n",
    "### Objective:\n",
    "The aim of this project is to train a machine learning model that can accurately predict whether a patient has diabetes or not based on the given diagnostic measurements. The model should be capable of handling new, unseen patient data and provide reliable predictions."
   ]
  },
  {
   "cell_type": "markdown",
   "metadata": {},
   "source": [
    "# Exploratory Data Analysis and Machine Learning Using appropriate libraries\n",
    "<hr style = \"border-top: 2px solid maroon\">"
   ]
  },
  {
   "cell_type": "markdown",
   "metadata": {},
   "source": [
    "# Data Exploration: Conduct exploratory data analysis to understand the distribution of variables, identify any patterns or correlations, and gain insights into the dataset. "
   ]
  },
  {
   "cell_type": "markdown",
   "metadata": {},
   "source": [
    "#### Task 1 - Perform EDA and find the shape, columns, records, statistical figures for the given dataset. "
   ]
  },
  {
   "cell_type": "code",
   "execution_count": 1,
   "metadata": {},
   "outputs": [],
   "source": [
    "## Write your code here\n"
   ]
  },
  {
   "cell_type": "markdown",
   "metadata": {},
   "source": [
    "#### Task 2 - Data preprocessing. Split the data into features (X) and target variable (y)\n"
   ]
  },
  {
   "cell_type": "code",
   "execution_count": 1,
   "metadata": {},
   "outputs": [],
   "source": [
    "## Write your code here\n"
   ]
  },
  {
   "cell_type": "markdown",
   "metadata": {},
   "source": [
    "#### Task 3 - Initialize the estimator\n"
   ]
  },
  {
   "cell_type": "code",
   "execution_count": null,
   "metadata": {},
   "outputs": [],
   "source": [
    "## Write your code here\n"
   ]
  },
  {
   "cell_type": "markdown",
   "metadata": {},
   "source": [
    "#### Task 4 - Train the model\n"
   ]
  },
  {
   "cell_type": "code",
   "execution_count": null,
   "metadata": {},
   "outputs": [],
   "source": [
    "## Write your code here\n"
   ]
  },
  {
   "cell_type": "markdown",
   "metadata": {},
   "source": [
    "#### Task 5 - Make predictions on test case\n"
   ]
  },
  {
   "cell_type": "code",
   "execution_count": null,
   "metadata": {},
   "outputs": [],
   "source": [
    "## Write your code here\n"
   ]
  },
  {
   "cell_type": "markdown",
   "metadata": {},
   "source": [
    "#### Task 6 - Model evaluation: Evaluate the model on the test data.\n"
   ]
  },
  {
   "cell_type": "code",
   "execution_count": null,
   "metadata": {},
   "outputs": [],
   "source": [
    "## Write your code here\n"
   ]
  }
 ],
 "metadata": {
  "kernelspec": {
   "display_name": "Python 3 (ipykernel)",
   "language": "python",
   "name": "python3"
  },
  "language_info": {
   "codemirror_mode": {
    "name": "ipython",
    "version": 3
   },
   "file_extension": ".py",
   "mimetype": "text/x-python",
   "name": "python",
   "nbconvert_exporter": "python",
   "pygments_lexer": "ipython3",
   "version": "3.10.9"
  }
 },
 "nbformat": 4,
 "nbformat_minor": 4
}
