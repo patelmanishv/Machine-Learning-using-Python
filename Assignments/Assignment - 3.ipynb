{
 "cells": [
  {
   "cell_type": "markdown",
   "id": "a662c84b",
   "metadata": {},
   "source": [
    "<center> <h1> Linear Regression Hands on Assignment</h1></center>\n",
    "<hr>"
   ]
  },
  {
   "cell_type": "markdown",
   "id": "f3151d8a",
   "metadata": {},
   "source": [
    "###  1. Import libraries"
   ]
  },
  {
   "cell_type": "markdown",
   "id": "8f2f487c",
   "metadata": {},
   "source": [
    "### 2. Load student_scores dataset (dataset link - [student_scores](https://raw.githubusercontent.com/patelmanishv/Machine-Learning-using-Python/main/student_scores.csv))"
   ]
  },
  {
   "cell_type": "markdown",
   "id": "e0e5ee8b",
   "metadata": {},
   "source": [
    "### 3. Perform EDA on the dataset "
   ]
  },
  {
   "cell_type": "markdown",
   "id": "32bfaebd",
   "metadata": {},
   "source": [
    "### 4. Perform Linear Regression using scikit learn (model selection using train test split size of 0.2) "
   ]
  },
  {
   "cell_type": "markdown",
   "id": "abe2e644",
   "metadata": {},
   "source": [
    "###  5. Find the Linear model and evaluate using different metrics (i.e. MAE, MSE, R2score)"
   ]
  }
 ],
 "metadata": {
  "kernelspec": {
   "display_name": "Python 3 (ipykernel)",
   "language": "python",
   "name": "python3"
  },
  "language_info": {
   "codemirror_mode": {
    "name": "ipython",
    "version": 3
   },
   "file_extension": ".py",
   "mimetype": "text/x-python",
   "name": "python",
   "nbconvert_exporter": "python",
   "pygments_lexer": "ipython3",
   "version": "3.10.9"
  }
 },
 "nbformat": 4,
 "nbformat_minor": 5
}
