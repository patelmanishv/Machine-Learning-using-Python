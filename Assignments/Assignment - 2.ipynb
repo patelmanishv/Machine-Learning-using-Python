{
 "cells": [
  {
   "cell_type": "markdown",
   "id": "62e172d1",
   "metadata": {},
   "source": [
    "<center> <h1 >LINEAR REGRESSION ASSIGNMENT </h1> </center>"
   ]
  },
  {
   "cell_type": "markdown",
   "id": "32cb339d",
   "metadata": {},
   "source": [
    "# Which of the following is not a key assumption of linear regression?\n",
    "a) Linearity  \n",
    "b) Independence  \n",
    "c) Normality  \n",
    "d) Multicollinearity  \n",
    "\n",
    "# What is the purpose of the coefficient of determination (R-squared) in linear regression?\n",
    "a) To measure the correlation between the predictor and response variables.  \n",
    "b) To measure the variability in the response variable that is explained by the predictor variable.  \n",
    "c) To measure the variability in the response variable that is not explained by the predictor variable.  \n",
    "d) To measure the residual error in the regression model.  \n",
    "\n",
    "# 3. In linear regression, what is the difference between the fitted values and the residuals?\n",
    "a) Fitted values are the predicted values of the response variable, while residuals are the actual values of the response variable.  \n",
    "b) Fitted values are the actual values of the response variable, while residuals are the predicted values of the response variable.  \n",
    "c) Fitted values are the values predicted by the regression model, while residuals are the differences between the actual and predicted values of the response variable.  \n",
    "d) Fitted values are the differences between the actual and predicted values of the response variable, while residuals are the values predicted by the regression model.  \n",
    "\n",
    "# 4. In multiple linear regression, what is the purpose of the VIF (Variance Inflation Factor)?\n",
    "a) To measure the correlation between the predictor variables.  \n",
    "b) To measure the variance in the response variable that is explained by the predictor variables.  \n",
    "c) To measure the variance in the predictor variables that is explained by the response variable.  \n",
    "d) To measure the amount of multicollinearity in the predictor variables.  \n",
    "\n",
    "# 5. In linear regression, what is the purpose of the F-test?\n",
    "a) To test the hypothesis that the intercept is equal to zero.  \n",
    "b) To test the hypothesis that at least one of the predictor variables has a non-zero coefficient.  \n",
    "c) To test the hypothesis that all of the predictor variables have zero coefficients.  \n",
    "d) To test the hypothesis that the residuals are normally distributed.  \n",
    "\n",
    "# 6. In linear regression, what is the purpose of the t-test?\n",
    "a) To test the hypothesis that the intercept is equal to zero.  \n",
    "b) To test the hypothesis that at least one of the predictor variables has a non-zero coefficient.  \n",
    "c) To test the hypothesis that all of the predictor variables have zero coefficients.  \n",
    "d) To test the hypothesis that the residuals are normally distributed.  \n",
    "\n",
    "# 7. In linear regression, what is the purpose of the standard error of the estimate (SEE)?\n",
    "a) To measure the variability in the response variable that is explained by the predictor variable.  \n",
    "b) To measure the variability in the response variable that is not explained by the predictor variable.  \n",
    "c) To measure the residual error in the regression model.  \n",
    "d) To measure the variability in the predicted values of the response variable.  \n",
    "\n",
    "# 8. In linear regression, what is the purpose of the adjusted R-squared?\n",
    "a) To measure the correlation between the predictor and response variables.  \n",
    "b) To measure the variability in the response variable that is explained by the predictor variable.  \n",
    "c) To measure the variability in the response variable that is not explained by the predictor variable.  \n",
    "d) To adjust for the number of predictor variables in the model.  \n",
    "\n",
    "\n",
    "# 9. In linear regression, what is the purpose of the residual plot?\n",
    "a) To visualize the relationship between the predictor and response variables.  \n",
    "b) To visualize the distribution of the response variable.  \n",
    "c) To visualize the distribution of the predictor variables.  \n",
    "d) To visualize the distribution of the residuals.  \n",
    "\n",
    "\n",
    "# 10. In linear regression, what is the purpose of the partial regression plot?\n",
    "a) To visualize the relationship between one predictor variable and the response variable, while holding all other predictors constant.  \n",
    "b) To visualize the relationship between two predictor variables and the response variable.  \n",
    "c) To visualize the relationship between the response variable and a categorical predictor variable.  \n",
    "d) To visualize the distribution of the residuals.  \n",
    " \n",
    "\n"
   ]
  },
  {
   "cell_type": "markdown",
   "id": "1181cd22",
   "metadata": {},
   "source": [
    "***\n",
    "**Double click here to reveal answers**\n",
    "<!--  \n",
    "1. Solution: d) Multicollinearity is not a key assumption of linear regression. It is a potential issue that can arise when predictor variables are highly correlated with each other.\n",
    "2. Solution: b) The coefficient of determination (R-squared) measures the proportion of the variability in the response variable that is explained by the predictor variable.\n",
    "3. Solution: c) Fitted values are the values predicted by the regression model, while residuals are the differences between the actual and predicted values of the response variable.\n",
    "4. Solution: d) The VIF (Variance Inflation Factor) is used to measure the amount of multicollinearity in the predictor variables.\n",
    "5. Solution: b) The F-test is used to test the hypothesis that at least one of the predictor variables has a non-zero coefficient.\n",
    "6. Solution: a) The t-test is used to test the hypothesis that the intercept is equal to zero.\n",
    "7. Solution: c) The standard error of the estimate (SEE) is used\n",
    "8. Solution: d) The adjusted R-squared is used to adjust for the number of predictor variables in the model. It takes into account the number of predictors and penalizes the R-squared value if there are too many predictors that do not contribute significantly to the model.\n",
    "9. Solution: d) The residual plot is used to visualize the distribution of the residuals. It helps to check whether the assumptions of linear regression are met, such as the normality of the residuals, constant variance, and independence.\n",
    "10. Solution: a) The partial regression plot is used to visualize the relationship between one predictor variable and the response variable, while holding all other predictors constant. It helps to identify the direction and strength of the relationship between the predictor and response variables.\n",
    "\n",
    "-->"
   ]
  }
 ],
 "metadata": {
  "kernelspec": {
   "display_name": "Python 3 (ipykernel)",
   "language": "python",
   "name": "python3"
  },
  "language_info": {
   "codemirror_mode": {
    "name": "ipython",
    "version": 3
   },
   "file_extension": ".py",
   "mimetype": "text/x-python",
   "name": "python",
   "nbconvert_exporter": "python",
   "pygments_lexer": "ipython3",
   "version": "3.10.9"
  }
 },
 "nbformat": 4,
 "nbformat_minor": 5
}
