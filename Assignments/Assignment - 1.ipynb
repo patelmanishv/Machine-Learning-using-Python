{
 "cells": [
  {
   "cell_type": "markdown",
   "id": "6151e68d",
   "metadata": {},
   "source": [
    "<center> <h1> Assignment - 1</h1></center>"
   ]
  },
  {
   "cell_type": "markdown",
   "id": "72dd992b",
   "metadata": {},
   "source": [
    "## 1. Define the following - \n",
    "1. Label\n",
    "2. Feature\n",
    "3. Data pipeline\n",
    "4. Data warehouse\n",
    "5. Data Science lifecycle"
   ]
  },
  {
   "cell_type": "markdown",
   "id": "a62476c1",
   "metadata": {},
   "source": [
    "## 2. List down six steps of CRISP - DM Model."
   ]
  },
  {
   "cell_type": "markdown",
   "id": "5e639328",
   "metadata": {},
   "source": [
    "## 3. List down stages of TDSP Model."
   ]
  },
  {
   "cell_type": "markdown",
   "id": "437691fa",
   "metadata": {},
   "source": [
    "## 4. Create a Machine Learning lifecycle model for a typical organization."
   ]
  }
 ],
 "metadata": {
  "kernelspec": {
   "display_name": "Python 3 (ipykernel)",
   "language": "python",
   "name": "python3"
  },
  "language_info": {
   "codemirror_mode": {
    "name": "ipython",
    "version": 3
   },
   "file_extension": ".py",
   "mimetype": "text/x-python",
   "name": "python",
   "nbconvert_exporter": "python",
   "pygments_lexer": "ipython3",
   "version": "3.10.9"
  }
 },
 "nbformat": 4,
 "nbformat_minor": 5
}
